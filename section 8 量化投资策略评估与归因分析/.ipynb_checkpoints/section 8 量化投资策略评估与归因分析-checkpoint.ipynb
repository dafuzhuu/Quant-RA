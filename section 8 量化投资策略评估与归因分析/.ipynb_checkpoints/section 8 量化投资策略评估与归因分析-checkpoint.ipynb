{
 "cells": [
  {
   "cell_type": "markdown",
   "metadata": {},
   "source": [
    "# <center>量化投资策略评估与归因分析</center>\n",
    "\n",
    "<p>&nbsp</p>\n",
    "\n",
    "<center><b>陈海强 教授</b></center>\n",
    "\n",
    "<p></p>\n",
    "\n",
    "<center>厦门大学王亚南经济研究院</center>"
   ]
  },
  {
   "cell_type": "markdown",
   "metadata": {},
   "source": [
    "## 1. 交易策略收益与风险评估"
   ]
  },
  {
   "cell_type": "markdown",
   "metadata": {},
   "source": [
    "量化投资策略设计最后一步就是回测，在交易策略，投资策略或风险建模中，回测旨在估计策略或模型在过去一段时间内的表现。\n",
    "\n",
    "回测是一种反向测试，应用于前一时间段的特殊类型的交叉验证；回溯测试提供了在合成数据上测试模型和策略时无法获得的信息，同时可以进一步对策略参数进行优化。\n",
    "\n",
    "<center><img src=\"img/backtest.png\" width=85%></center>"
   ]
  },
  {
   "cell_type": "markdown",
   "metadata": {},
   "source": [
    "### 1.1 策略评价标准\n",
    "\n",
    "#### 1.1.1 基准指数\n",
    "\n",
    "在大部份情况下，投资者会选择一项市场指数或结合多项指数，作为投资组合的基准指数。指数可追踪整体资产类别的表现，例如所有上市股票；或局部市场范畴的表现，例如科技股。由于指数以「买入后持有」的基础追踪回报，而且不会试图判断哪些证券最具吸引力，因此指数代表了被动型投资方式，并可用作比较主动型管理投资组合表现的基准。我们可透过指数得知主动型经理为投资组合增值的幅度，以及有关价值的贡献来源。\n",
    "\n",
    "| 指数             | 市场       | 描述                                                              |\n",
    "|------------------|------------|-------------------------------------------------------------------|\n",
    "| 道琼斯工业平均指数 | 美国       | 涵盖30支在美国上市的“蓝筹”股的价格加权平均指数                   |\n",
    "| 富时100指数        | 英国       | 涵盖在伦敦证券交易所上市的100家最大英国公司的市值加权指数         |\n",
    "| 恒生指数          | 香港       | 按公司流通量调整市值的指数，涵盖在香港联合交易所上市的50家最大公司 |\n",
    "| MSCI世界指数      | 环球股票   | 按公司流通量调整市值的指数，涵盖23项已发展市场国家指数             |\n",
    "| 纳斯达克综合指数   | 美国       | 涵盖约3,000支在纳斯达克股票交易所上市的普通股市值加权指数          |\n",
    "| 日经225指数        | 日本       | 以日圆计算值的价格加权股票指数，涵盖在东京证券交易所上市的225家最大型公司 |\n",
    "| 标准普尔500指数    | 美国       | 涵盖500支美国大型股表现的市值加权指数                            |\n",
    "| 沪深300指数        | 中国       | 涵盖沪深两地上市的300家市值最大的A股公司，反映中国股市整体表现     |\n"
   ]
  },
  {
   "cell_type": "markdown",
   "metadata": {},
   "source": [
    "#### 1.1.2 回报的连续性\n",
    "\n",
    "回报的连续性描述了一个策略产生连续正回报或负回报的能力，通常用于衡量策略在一定时期内的稳定性与可靠性。\n",
    "\n",
    "回报的连续性可以通过统计学中的**自相关性**来评估，特别是计算回报序列在不同时间滞后的自相关系数。例如，给定每日回报率序列 $ r_t $ ，我们可以计算出不同滞后时间 $ \\tau $ 的自相关系数 $ \\rho(\\tau) $：\n",
    "\n",
    "$$\n",
    "\\rho(\\tau) = \\frac{\\text{Cov}(r_t, r_{t-\\tau})}{\\sigma_{r_t} \\sigma_{r_{t-\\tau}}}\n",
    "$$\n",
    "\n",
    "其中，$ \\text{Cov}(r_t, r_{t-\\tau}) $ 表示回报在时间 $ t $ 和 $ t-\\tau $ 之间的协方差，而 $ \\sigma_{r_t} $ 和 $ \\sigma_{r_{t-\\tau}} $ 分别是对应时间段的标准差。\n",
    "\n",
    "高正自相关性表明该策略在时间上具有较高的回报连续性，即连续获得正回报的可能性较高；而负自相关性则表明该策略的回报波动较大，可能出现连续亏损或回报大起大落的情况。\n",
    "\n",
    "回报连续性的衡量方法包括\n",
    "\n",
    "- 连续正回报天数：统计策略连续获得正回报的最长天数或平均天数，通常用于判断策略是否稳定地为投资者带来正收益。\n",
    "\n",
    "- 回撤与恢复速度：连续性好的策略在发生回撤后，能够更快地恢复至历史最高点。因此，可以通过观察回撤后的恢复时间来评价策略的回报连续性。\n"
   ]
  },
  {
   "cell_type": "markdown",
   "metadata": {},
   "source": [
    "#### 1.1.3 夏普比率\n",
    "\n",
    "夏普比率（Sharpe Ratio）是衡量投资回报与风险之间关系的常用指标，用于评估一个投资组合或策略是否能在考虑风险的情况下提供较高的收益。它是由诺贝尔经济学奖得主威廉·夏普（William F. Sharpe）提出的，主要用于比较不同投资策略或资产在相同风险水平下的表现。它也是回报连续性的衡量方法之一。\n",
    "\n",
    "夏普比率的公式如下：\n",
    "\n",
    "$$\n",
    "S = \\frac{R_p - R_f}{\\sigma_p}\n",
    "$$\n",
    "\n",
    "其中 $ R_p $为投资组合或策略的期望回报率，$ R_f $为无风险利率（通常使用国债利率等作为无风险资产的收益率），$ \\sigma_p $为投资组合或策略回报的标准差（即回报的波动性，代表投资的风险）"
   ]
  },
  {
   "cell_type": "markdown",
   "metadata": {},
   "source": [
    "从公式中可以看到，夏普比率的含义可以理解为：**每承受一单位风险，投资者能获得多少单位的超额回报**。夏普比率越高，意味着该投资组合在承担相同风险的情况下，能带来更高的回报，表现更优。\n",
    "\n",
    "对于不同数值的夏普率，通常可以这样解释：\n",
    "\n",
    "- $ S > 1 $：投资组合表现良好，说明每单位风险带来了较高的超额回报\n",
    "- $ 0 < S < 1 $：投资组合表现一般，回报相对于风险并不显著\n",
    "- $ S = 0 $：投资组合的回报等于无风险利率，没有任何额外的收益\n",
    "- $ S < 0 $：投资组合表现较差，承受的风险反而带来了负的超额回报，表明该策略并不成功\n",
    "\n",
    "虽然夏普比率在风险调整后回报的评估中非常有用，但它也有一些局限性。\n",
    "\n",
    "1. 假设回报是正态分布，即回报是对称的，而实际上金融市场中的回报常常是非正态分布的，有可能存在尖峰厚尾现象\n",
    "   \n",
    "2. 未考虑不同的风险类别，而是将所有风险归结为回报的波动性，但并未区分不同类型的风险（如市场风险、信用风险、流动性风险等）\n",
    "\n",
    "3. 短期策略的误导性。一些高频交易策略可能在短期内表现出极高的夏普比率，但并不能保证其在长期中有稳定的表现。\n",
    "\n",
    "假设某投资组合的年化回报率 $ R_p = 15\\% $，无风险利率 $ R_f = 2\\% $，该组合的年化波动率 $ \\sigma_p = 10\\% $。其夏普比率可以计算为：\n",
    "\n",
    "$$\n",
    "S = \\frac{15\\% - 2\\%}{10\\%} = 1.3\n",
    "$$"
   ]
  },
  {
   "cell_type": "markdown",
   "metadata": {},
   "source": [
    "#### 1.1.4 索提诺比率（Sortino Ratio）\n",
    "\n",
    "索提诺比率与夏普比率类似，但它只考虑下行风险（即负回报的风险），表示每承担一单位的下行风险，将会获得多少超额回报。公式为：\n",
    "\n",
    "$$\n",
    "\\text{Sortino Ratio} = \\frac{R_p - R_f}{\\sigma_{\\text{down}}}\n",
    "$$\n",
    "\n",
    "其中，$ \\sigma_{\\text{down}} $ 是投资组合的下行风险标准差。\n",
    "\n",
    "为计算 $\\sigma_{\\text{down}}$，我们首先要设定一个“目标回报率” $ T $，这个门槛通常是无风险利率 $ R_f $ 或 0。例如，在计算索提诺比率时，目标回报率通常被设定为无风险利率。对于每一个回报率 $ r_t $，如果 $ r_t $ 低于目标回报率 $ T $，则该差值 $ T - r_t $ 会被视为下行偏差，否则视为零，即\n",
    "\n",
    "$$\n",
    "D_t = \\max(T - r_t, 0)\n",
    "$$\n",
    "\n",
    "接着，将所有下行偏差平方后取平均，再开平方根，得到下行风险标准差。具体计算公式如下：\n",
    "\n",
    "$$\n",
    "\\sigma_{\\text{downside}} = \\sqrt{\\frac{1}{n} \\sum_{t=1}^{n} \\max(T - r_t, 0)^2}\n",
    "$$\n",
    "\n",
    "其中 $ n $ 是回报序列的长度（即总样本数）， $ r_t $ 是第 $ t $ 个时间点的回报率， $ T $ 是目标回报率（无风险利率或零回报率）。"
   ]
  },
  {
   "cell_type": "markdown",
   "metadata": {},
   "source": [
    "下面给出 Sharpe ratio 和 Sortino ratio 的计算代码示例。首先加载本文档中将要用到的库。（若有缺失库，可用 `!pip install 库名` 命令安装）"
   ]
  },
  {
   "cell_type": "code",
   "execution_count": 1,
   "metadata": {},
   "outputs": [],
   "source": [
    "import numpy as np\n",
    "import pandas as pd\n",
    "import akshare as ak\n",
    "import datetime as dt\n",
    "import matplotlib.pyplot as plt\n",
    "plt.rcParams['font.sans-serif'] = ['SimHei']  # 用来正常显示中文标签"
   ]
  },
  {
   "cell_type": "code",
   "execution_count": 2,
   "metadata": {},
   "outputs": [
    {
     "name": "stdout",
     "output_type": "stream",
     "text": [
      "夏普比率: 0.2611\n",
      "索提诺比率: 0.5583\n"
     ]
    }
   ],
   "source": [
    "returns = np.array([0.05, 0.02, -0.03, 0.01, -0.01])\n",
    "\n",
    "# 每日无风险利率\n",
    "risk_free_rate = 0.02 / 252\n",
    "\n",
    "# 夏普率\n",
    "def sharpe_ratio(returns, risk_free_rate=0.0):\n",
    "    excess_returns = returns - risk_free_rate\n",
    "    return np.mean(excess_returns) / np.std(excess_returns, ddof=1)\n",
    "\n",
    "# 索提诺比率\n",
    "def sortino_ratio(returns, target_return=0.0, risk_free_rate=0.0):\n",
    "    excess_returns = returns - risk_free_rate\n",
    "    downside_risk = np.sqrt(np.mean(np.where(excess_returns < target_return, (excess_returns - target_return) ** 2, 0)))\n",
    "    return np.mean(excess_returns) / downside_risk\n",
    "\n",
    "sharpe = sharpe_ratio(returns, risk_free_rate)\n",
    "sortino = sortino_ratio(returns, target_return=0.0, risk_free_rate=risk_free_rate)\n",
    "\n",
    "print(f\"夏普比率: {sharpe:.4f}\")\n",
    "print(f\"索提诺比率: {sortino:.4f}\")"
   ]
  },
  {
   "cell_type": "markdown",
   "metadata": {},
   "source": [
    "#### 1.1.5 最大回撤\n",
    "\n",
    "最大回撤（Maximum Drawdown, MDD）是用于衡量投资组合或策略在某段时间内，从最高点到最低点的最大跌幅。它通常被用来评估投资的下行风险，即投资组合在最坏情况下可能会经历多大的损失。\n",
    "\n",
    "![MDD](img/MDD.png)\n",
    "\n",
    "如上图，最大回撤发生在A到B的下跌阶段，其中A点为波峰，B点为波谷。最大回撤的计算公式为\n",
    "\n",
    "$$\n",
    "MDD = \\frac{P_A-P_B}{P_A}\\times 100\\%\n",
    "$$\n",
    "\n",
    "根据获得的数据不同，实践中我们有至少两种方法计算最大回撤\n",
    "\n",
    "**1. 已知价格序列**\n",
    "\n",
    "假设股票价格序列为 $[100, 120, 90, 130, 80, 100]$"
   ]
  },
  {
   "cell_type": "code",
   "execution_count": 5,
   "metadata": {},
   "outputs": [],
   "source": [
    "def MDD_1(price_series):\n",
    "    peak = 0\n",
    "    max_dd = 0  # 最大回撤\n",
    "\n",
    "    for price in price_series:\n",
    "        if price > peak:\n",
    "            peak = price\n",
    "        dd = (peak - price) / peak\n",
    "        if dd > max_dd:\n",
    "            max_dd = dd\n",
    "\n",
    "    return max_dd"
   ]
  },
  {
   "cell_type": "code",
   "execution_count": 6,
   "metadata": {},
   "outputs": [
    {
     "name": "stdout",
     "output_type": "stream",
     "text": [
      "最大回撤：0.3846\n"
     ]
    }
   ],
   "source": [
    "price_series = [100, 120, 90, 130, 80, 100]\n",
    "mdd_1 = MDD_1(price_series)\n",
    "print(f'最大回撤：{mdd_1:.4f}')"
   ]
  },
  {
   "cell_type": "markdown",
   "metadata": {},
   "source": [
    "得出最大回撤为 $38.46\\%$"
   ]
  },
  {
   "cell_type": "markdown",
   "metadata": {},
   "source": [
    "**2. 已知收益率序列**\n",
    "\n",
    "我们可以将以上价格转化为收益率序列。接着我们写出第二种计算最大回撤的方法，利用NumPy的向量化编程实现更简洁快速的计算方式。"
   ]
  },
  {
   "cell_type": "code",
   "execution_count": 7,
   "metadata": {},
   "outputs": [],
   "source": [
    "def price2ret(price):\n",
    "    return (np.array(price[1:]) / np.array(price[:-1])) - 1\n",
    "\n",
    "def MDD_2(ret_series):\n",
    "    cum_ret = (1 + ret_series).cumprod()\n",
    "    peak = np.maximum.accumulate(cum_ret)\n",
    "    drawdown = (peak - cum_ret) / peak\n",
    "\n",
    "    return np.max(drawdown)"
   ]
  },
  {
   "cell_type": "code",
   "execution_count": 8,
   "metadata": {},
   "outputs": [
    {
     "name": "stdout",
     "output_type": "stream",
     "text": [
      "最大回撤：0.3846\n"
     ]
    }
   ],
   "source": [
    "ret_series = price2ret(price_series)\n",
    "mdd_2 = MDD_2(ret_series)\n",
    "print(f'最大回撤：{mdd_2:.4f}')"
   ]
  },
  {
   "cell_type": "markdown",
   "metadata": {},
   "source": [
    "第二种算法得到一样的结果。"
   ]
  },
  {
   "cell_type": "markdown",
   "metadata": {},
   "source": [
    "通过下面的玩具函数可以更直观地理解最大回撤概念。向函数中输入不同整数以生成不同随机种子，可以得到形状不同地累积收益率曲线，并观察其最大回撤发生地位置。"
   ]
  },
  {
   "cell_type": "code",
   "execution_count": 9,
   "metadata": {},
   "outputs": [],
   "source": [
    "def playMDD(seed):\n",
    "    np.random.seed(seed)\n",
    "    returns = np.random.normal(0.0005, 0.01, 252)\n",
    "    cumulative_returns = (1 + returns).cumprod()\n",
    "    peak = np.maximum.accumulate(cumulative_returns)  # 计算历史最大值\n",
    "    drawdown = (cumulative_returns - peak) / peak    # 计算回撤\n",
    "    max_drawdown_index = np.argmin(drawdown)         # 最大回撤对应的谷底\n",
    "    max_drawdown_peak_index = np.argmax(cumulative_returns[:max_drawdown_index])  # 波峰（在谷底之前的最大值）\n",
    "\n",
    "    # 绘制收益率曲线\n",
    "    plt.figure(figsize=(10, 6))\n",
    "    plt.plot(cumulative_returns, label='Cumulative Returns')\n",
    "    plt.scatter(max_drawdown_peak_index, cumulative_returns[max_drawdown_peak_index], color='red', label='Peak (Max Drawdown)', zorder=5)\n",
    "    plt.scatter(max_drawdown_index, cumulative_returns[max_drawdown_index], color='green', label='Trough (Max Drawdown)', zorder=5)\n",
    "    plt.text(max_drawdown_peak_index-3, cumulative_returns[max_drawdown_peak_index], 'A', color='red', fontsize=14, ha='right')\n",
    "    plt.text(max_drawdown_index-3, cumulative_returns[max_drawdown_index], 'B', color='green', fontsize=14, ha='right')\n",
    "\n",
    "    plt.title(\"随机生成的累积收益率曲线及最大回撤\")\n",
    "    plt.xlabel(\"交易日\")\n",
    "    plt.ylabel(\"累积收益率\")\n",
    "    plt.legend()\n",
    "    plt.grid(True)\n",
    "    plt.show()"
   ]
  },
  {
   "cell_type": "code",
   "execution_count": 11,
   "metadata": {},
   "outputs": [
    {
     "data": {
      "image/png": "[encoded data removed]",
      "text/plain": [
       "<Figure size 1000x600 with 1 Axes>"
      ]
     },
     "metadata": {},
     "output_type": "display_data"
    }
   ],
   "source": [
    "playMDD(8)"
   ]
  },
  {
   "cell_type": "markdown",
   "metadata": {},
   "source": [
    "#### 1.1.6 Beta\n",
    "\n",
    "Beta表示投资的系统性风险，反映了策略对大盘变化的敏感性。例如一个策略的Beta为1.5，则大盘涨1%时，策略可能涨1.5%，反之亦然；如果一个策略的Beta为-1.5，说明大盘涨1%的时候，策略可能跌1.5%，反之亦然。计算公式如下\n",
    "\n",
    "$$\n",
    "\\beta_p = \\frac{cov(R_p, R_m)}{Var(R_m)}\n",
    "$$\n",
    "\n",
    "其中 $R_p$ 为策略的每日收益，$R_m$ 为基准组合的每日收益，$cov(R_p, R_m)$ 为两者协方差，$Var(R_m)$ 为基准收益的方差。"
   ]
  },
  {
   "cell_type": "markdown",
   "metadata": {},
   "source": [
    "假如组合中只有一只股票，我们可以求出个股的 $\\beta$ 值。用玩具数据总有些无趣，所以我们以贵州茅台（600519.SH）的真实数据为例计算。首先观察股价走势。"
   ]
  },
  {
   "cell_type": "code",
   "execution_count": 12,
   "metadata": {},
   "outputs": [
    {
     "data": {
      "image/png": "[encoded data removed]",
      "text/plain": [
       "<Figure size 1400x700 with 1 Axes>"
      ]
     },
     "metadata": {},
     "output_type": "display_data"
    }
   ],
   "source": [
    "stock_data = ak.stock_zh_a_hist(symbol=\"600519\", start_date=\"20230630\", end_date=\"20240630\")\n",
    "asset_price = stock_data[\"收盘\"]\n",
    "market_data = ak.stock_zh_index_daily(symbol=\"sh000300\")\n",
    "market_data = market_data[market_data[\"date\"].between(dt.date(2023, 6, 30), dt.date(2024, 6, 30))]\n",
    "benchmark_price = market_data[\"close\"]\n",
    "\n",
    "plt.figure(figsize=(14, 7))\n",
    "plt.plot(stock_data[\"日期\"], asset_price, label=\"贵州茅台 (600519)\", color='blue')\n",
    "plt.plot(market_data[\"date\"], benchmark_price, label=\"沪深300\", color='orange')\n",
    "plt.title(\"股票与指数走势对比\")\n",
    "plt.xlabel(\"日期\")\n",
    "plt.ylabel(\"价格\")\n",
    "plt.legend()\n",
    "plt.xticks(rotation=45)\n",
    "plt.grid()\n",
    "plt.tight_layout()\n",
    "plt.show()"
   ]
  },
  {
   "cell_type": "markdown",
   "metadata": {},
   "source": [
    "可以观察到两者呈现比较明显的相关性，且贵州茅台的走势较沪深300更加平稳，因此推测 $\\beta<1$"
   ]
  },
  {
   "cell_type": "code",
   "execution_count": 13,
   "metadata": {},
   "outputs": [
    {
     "name": "stdout",
     "output_type": "stream",
     "text": [
      "beta: 0.32\n"
     ]
    }
   ],
   "source": [
    "def beta(asset_price, benchmark_price):\n",
    "    return np.cov(asset_price, benchmark_price)[0][1] / np.var(benchmark_price)\n",
    "\n",
    "b = beta(asset_price, benchmark_price)\n",
    "print(f\"beta: {b:.2f}\")"
   ]
  },
  {
   "cell_type": "markdown",
   "metadata": {},
   "source": [
    "因此，由2023.6.30至2024.6.30数据计算的贵州茅台 $\\beta=0.32$。可以尝试调整时间跨度，看看对Beta值有什么影响。"
   ]
  },
  {
   "cell_type": "markdown",
   "metadata": {},
   "source": [
    "#### 1.1.7 Alpha\n",
    "\n",
    "$\\alpha$值用于衡量投资组合相对于基准组合的超额收益，其计算公式如下\n",
    "\n",
    "$$\n",
    "\\alpha = R_i-(R_f+\\beta (R_m-R_f))\n",
    "$$\n",
    "\n",
    "其中\n",
    "\n",
    "- $R_i$：投资组合年化收益率\n",
    "- $R_f$：无风险收益率\n",
    "- $R_m$：基准年化收益率\n",
    "- $\\beta$：策略beta值"
   ]
  },
  {
   "cell_type": "markdown",
   "metadata": {},
   "source": [
    "首先我们需要对一段收益率序列做**年化处理**。假设日频收益率序列为 $R_1, R_2, \\cdots, R_n$，则区间收益为 \n",
    "\n",
    "$$\n",
    "1+R=\\prod_{i=1}^{n}(1+R_i)\n",
    "$$\n",
    "\n",
    "年化收益率为\n",
    "\n",
    "$$\n",
    "R_a=\\left(1+R\\right)^{\\frac{252}{n}}-1\n",
    "$$"
   ]
  },
  {
   "cell_type": "code",
   "execution_count": 14,
   "metadata": {},
   "outputs": [],
   "source": [
    "def annualized_return(ret_series):\n",
    "    ret_series = np.array(ret_series)\n",
    "    cum_ret = (1 + ret_series).cumprod().tolist()[-1]\n",
    "    r_a = cum_ret ** (252 / len(ret_series)) - 1\n",
    "    return r_a"
   ]
  },
  {
   "cell_type": "markdown",
   "metadata": {},
   "source": [
    "仍然以刚才投资组合内仅有一只股票（贵州茅台）为例，我们来看看这只股票的 $\\alpha$ 如何计算。"
   ]
  },
  {
   "cell_type": "code",
   "execution_count": 15,
   "metadata": {},
   "outputs": [
    {
     "name": "stdout",
     "output_type": "stream",
     "text": [
      "组合年化收益率: -13.78%，基准年化收益率: -10.34%\n"
     ]
    }
   ],
   "source": [
    "asset_ret = asset_price.pct_change().dropna().tolist()\n",
    "benchmark_ret = benchmark_price.pct_change().dropna().tolist()\n",
    "annul_asset_ret = annualized_return(asset_ret)\n",
    "annul_benchmark_ret = annualized_return(benchmark_ret)\n",
    "print(f\"组合年化收益率: {annul_asset_ret:.2%}，基准年化收益率: {annul_benchmark_ret:.2%}\")"
   ]
  },
  {
   "cell_type": "markdown",
   "metadata": {},
   "source": [
    "由 $R_i=-13.78\\%, R_m=-10.34\\%$，假设无风险利率 $R_f=2\\%$，则\n",
    "\n",
    "$$\n",
    "\\alpha = -13.78\\% - (2\\% + 0.32\\times (-10.34\\% - 2\\%)) = -11.83\\%\n",
    "$$"
   ]
  },
  {
   "cell_type": "markdown",
   "metadata": {},
   "source": [
    "#### 1.1.8 波动率"
   ]
  },
  {
   "cell_type": "markdown",
   "metadata": {},
   "source": [
    "波动率反映了策略每日收益率的波动程度。通过对每日收益率的标准差进行年化处理，可以将不同时间周期内的收益波动情况标准化，使其在相同的年化标准下进行比较。计算公式如下\n",
    "\n",
    "$$\n",
    "\\sigma_p=\\sqrt{\\frac{250}{n-1}\\sum_{i=1}^n (R_{p_i}-\\bar{R}_p)^2}\n",
    "$$\n",
    "\n",
    "其中\n",
    "\n",
    "- $\\sigma_p$：策略的年化波动率\n",
    "- $n$：策略的持续时间（天）\n",
    "- $R_{p_i}$：第$i$日的收益率\n",
    "- $\\bar{R}_p$：策略每日收益的平均值"
   ]
  },
  {
   "cell_type": "code",
   "execution_count": 16,
   "metadata": {},
   "outputs": [],
   "source": [
    "def annualized_volatility(ret_series):\n",
    "    n = len(ret_series)\n",
    "    vol = np.sum((ret_series - np.mean(ret_series)) ** 2)\n",
    "    return np.sqrt(250 / n * vol)"
   ]
  },
  {
   "cell_type": "code",
   "execution_count": 17,
   "metadata": {},
   "outputs": [
    {
     "name": "stdout",
     "output_type": "stream",
     "text": [
      "组合年化波动率: 19.68%, 基准年化波动率: 13.91%\n"
     ]
    }
   ],
   "source": [
    "annual_asset_vol = annualized_volatility(asset_ret)\n",
    "annual_benchmark_vol = annualized_volatility(benchmark_ret)\n",
    "print(f\"组合年化波动率: {annual_asset_vol:.2%}, 基准年化波动率: {annual_benchmark_vol:.2%}\")"
   ]
  },
  {
   "cell_type": "markdown",
   "metadata": {},
   "source": [
    "组合和基准的年化波动率分别是 $19.68\\%, 13.91\\%$"
   ]
  },
  {
   "cell_type": "markdown",
   "metadata": {},
   "source": [
    "#### 1.1.9 追踪误差\n",
    "\n",
    "追踪误差（Tracking Error）用于衡量一个投资组合或策略的表现与某个基准（如指数、参考组合）之间的偏离程度。追踪误差可以帮助投资者了解策略的风险和与基准的偏差情况。"
   ]
  },
  {
   "cell_type": "markdown",
   "metadata": {},
   "source": [
    "追踪误差的计算公式为\n",
    "\n",
    "$$\n",
    "\\sigma_t = \\sqrt{\\frac{1}{n-1} \\sum_{i=1}^{n} (R_{p_i} - R_{m_i} - \\bar{d})^2}\n",
    "$$\n",
    "\n",
    "其中：\n",
    "- $ R_{p_i} $：第 $ i $ 天策略（投资组合）的收益率\n",
    "- $ R_{m_i} $：第 $ i $ 天基准（参考组合）的收益率\n",
    "- $ \\bar{d} $：策略与基准每日收益差值的平均值\n",
    "- $ n $：观测期内的交易天数\n",
    "\n",
    "$\\bar{d}$ 的计算公式为：\n",
    "\n",
    "$$\n",
    "\\bar{d} = \\frac{1}{n} \\sum_{i=1}^{n} (R_{p_i} - R_{m_i})\n",
    "$$\n",
    "\n",
    "在实际使用中，通常使用年化追踪误差\n",
    "\n",
    "$$\n",
    "\\sqrt{\\frac{250}{n-1} \\sum_{i=1}^{n} (r_{p_i} - r_{m_i} - \\bar{d})^2}\n",
    "$$\n",
    "\n",
    "追踪误差常作为指增策略的风险控制指标，一般基金经理会将其控制在很小的范围来确保和基准的表现一致。此外，在组合优化中投资者也常将追踪误差作为约束条件，以控制投资组合相对于基准的风险水平。"
   ]
  },
  {
   "cell_type": "code",
   "execution_count": 18,
   "metadata": {},
   "outputs": [],
   "source": [
    "def annualized_tracking_error(ret_series, benchmark_series):\n",
    "    ret_series = np.array(ret_series)\n",
    "    benchmark_series = np.array(benchmark_series)\n",
    "    n = len(ret_series)\n",
    "    d = ret_series - benchmark_series\n",
    "    d_bar = d.mean()\n",
    "    return np.sqrt(250 / (n-1) * np.sum((d - d_bar) ** 2))"
   ]
  },
  {
   "cell_type": "code",
   "execution_count": 19,
   "metadata": {},
   "outputs": [
    {
     "name": "stdout",
     "output_type": "stream",
     "text": [
      "追踪误差：15.34%\n"
     ]
    }
   ],
   "source": [
    "asset_tracking_error = annualized_tracking_error(asset_ret, benchmark_ret)\n",
    "print(f\"追踪误差：{asset_tracking_error:.2%}\")"
   ]
  },
  {
   "cell_type": "markdown",
   "metadata": {},
   "source": [
    "组合的年化追踪误差为 $15.34\\%$"
   ]
  },
  {
   "cell_type": "markdown",
   "metadata": {},
   "source": [
    "#### 1.1.10 信息比率\n",
    "\n",
    "信息比率（Information Ratio） 是用来衡量单位超额风险带来的策略收益波动率。信息比率越大，说明该策略单位跟踪误差所获得的超额收益越高，因此，信息比率较大的策略的表现要优于信息比率较低的基准。合理的投资目标应该是在承担适度风险下，尽可能追求高信息比率。\n",
    "\n",
    "信息比率的计算公式为\n",
    "\n",
    "$$\n",
    "\\text{Information Ratio} = \\frac{R_p - R_m}{\\sigma_t}\n",
    "$$\n",
    "\n",
    "其中：\n",
    "- $R_p $：策略的年化收益率。\n",
    "- $R_m $：基准的年化收益率。\n",
    "- $\\sigma_t$：策略与基准每日收益差值的年化标准差（Tracking Error）"
   ]
  },
  {
   "cell_type": "code",
   "execution_count": 20,
   "metadata": {},
   "outputs": [],
   "source": [
    "def info_ratio(ret_series, benchmark_series):\n",
    "    annual_asset_ret = annualized_return(ret_series)\n",
    "    annual_benchmark_ret = annualized_return(benchmark_series)\n",
    "    te = annualized_tracking_error(ret_series, benchmark_series)\n",
    "    return (annual_asset_ret - annual_benchmark_ret) / te"
   ]
  },
  {
   "cell_type": "code",
   "execution_count": 50,
   "metadata": {},
   "outputs": [
    {
     "name": "stdout",
     "output_type": "stream",
     "text": [
      "信息比率：-22.47%\n"
     ]
    }
   ],
   "source": [
    "asset_info = info_ratio(asset_ret, benchmark_ret)\n",
    "print(f\"信息比率：{asset_info:.2%}\")"
   ]
  },
  {
   "cell_type": "markdown",
   "metadata": {},
   "source": [
    "组合的信息比率为 $-22.47\\%$"
   ]
  },
  {
   "cell_type": "markdown",
   "metadata": {},
   "source": [
    "### 1.2 绩效陷阱"
   ]
  },
  {
   "cell_type": "markdown",
   "metadata": {},
   "source": [
    "#### 1.2.1 交易费用\n",
    "\n",
    "高交易费用可能导致一个**看似有效**的投资策略在扣除成本后无法实现预期的收益，因此在设计量化策略时，必须考虑交易费用的影响。比如说，高频交易策略中频繁交易带来的成本可能非常高，甚至抵消策略的回报。"
   ]
  },
  {
   "cell_type": "markdown",
   "metadata": {},
   "source": [
    "#### 1.2.2 生存期偏差\n",
    "\n",
    "生存期偏差（Survivorship Bias）又称幸存者偏差，指评估策略时由于选取样本的偏差而导致评估结果与真实情况相悖。\n",
    "\n",
    "在回测股票策略时，如果使用的是当前仍然存在的股票数据，而忽略那些已经退市、破产、被并购的公司股票，这会导致样本中只包括表现较好的“幸存者”，使得回测结果偏高。例如，使用目前在指数中的公司进行回测，可能会忽略掉那些过去因为表现不佳而被剔除的公司。\n",
    "\n",
    "当评估基金表现时，如果只考虑目前仍然存在的基金，而不考虑那些因为表现不佳而清算或合并的基金，会导致对基金管理业绩的过度乐观。\n",
    "\n",
    "在量化策略的开发中，可能会无意间选择那些已经表现良好且被记录的数据，而忽略了由于早期表现不佳而被淘汰的策略，这样的策略评估也是不全面的。"
   ]
  },
  {
   "cell_type": "markdown",
   "metadata": {},
   "source": [
    "#### 1.2.3 市场结构转换\n",
    "\n",
    "分析师通常会在研报最后一页的免责声明中添加类似下面这段话\n",
    "\n",
    "> 过去的表现并不代表未来的表现，未来的回报也无法保证，投资者可能会损失本金。\n",
    "\n",
    "这里实际上描述的就是市场结构转换的概念。随着市场参与者的变化、技术进步、监管环境的变化、市场风格的轮动，市场发生了结构性变化，策略可能因此失效。\n",
    "\n",
    "为应对这样的窘境，投资机构如大型对冲基金需要持续监控并迭代模型，或是用多策略组合分散市场结构转换时的风险。"
   ]
  },
  {
   "cell_type": "markdown",
   "metadata": {},
   "source": [
    "### 1.3 回测陷阱\n",
    "\n",
    "#### 1.3.1 数据窥探偏差\n",
    "\n",
    "数据偷窥偏差（Data Snooping Bias）是指在进行回测时，模型或者策略不合理地使用了未来时点的数据或信息，导致回测过程中能够获得的信息在现实交易中不可能被实时获得。这会导致模型在回测中表现得非常好，但在实际运作中效果差异巨大。\n",
    "\n",
    "数学上，如果我们有一个交易策略 $ S $，它依赖于过去的数据来做出决策 $ d_t $，理想的情况是策略应该只依赖于 $ t $ 时刻之前的数据：\n",
    "\n",
    "$$\n",
    "d_t = f(X_{t-1}, X_{t-2}, \\dots, X_{t-n})\n",
    "$$\n",
    "\n",
    "其中，$ X_{t-1}, X_{t-2}, \\dots, X_{t-n} $ 是时间点 $ t $ 之前的历史数据。然而，出现数据偷窥偏差时，模型可能会错误地使用未来的数据，即：\n",
    "\n",
    "$$\n",
    "d_t = f(X_{t+1}, X_{t+2}, \\dots)\n",
    "$$\n",
    "\n",
    "这会导致回测结果不准确，因为在现实交易中，我们无法获取未来的价格或其他市场数据。\n",
    "\n",
    "数据窥探的成因是某些指标使用了未来的信息，如未来一天的收盘价来预测当前的交易决策。这在回测中是可以实现的，因为我们可以轻松访问所有数据，而这在实际操作中是不可能的。例如，在构建移动平均策略时，如果无意中使用了未来的价格来计算过去的平均值，这会导致回测中模型的表现非常好，但实际交易时表现会大幅度下降。\n",
    "\n",
    "数据窥探会带来虚高的回测收益，因此如果遇到回测收益率非常大的情况（如年化超过100&），那么需要仔细检查是否在回测过程中误用了未来的信息。\n",
    "\n",
    "**案例**\n",
    "\n",
    "<center><img src=\"img/data-snooping.png\" width=90%></center>\n",
    "\n",
    "这是一个优化器对投资组合进行优化后的效果分析，绿色方框标出有约束条件优化的年化收益率，蓝色方框为无约束条件优化的年化收益率。可以看到无约束优化的年化收益率高达90%，对于风控工具来说这种程度的收益提升是无法想象的。经检查发现，在做回归时用到了下一期收益率作为因变量，因此计算出的系数中包含未来信息。这是数据窥探的经典场景。\n",
    "\n",
    "避免数据偷窥偏差的关键在于确保回测使用的数据和策略逻辑严格遵循现实中的信息流，通常可以通过以下几种方法实现：\n",
    "\n",
    "**1. AB 测试法**\n",
    "\n",
    "AB测试法可以通过将数据分为两部分来测试是否存在数据偷窥:\n",
    "\n",
    "1. 将样本数据集划分为两个子集：A 和 B。\n",
    "2. 在 A 子集上训练模型或调整策略参数，然后在 B 子集上测试性能，确保模型在未见过的测试数据上也能有良好的表现。\n",
    "3. 避免在测试集 B 上调整模型或参数，以防止未来数据“泄漏”。\n",
    "\n",
    "**2. 模拟交易**\n",
    "\n",
    "模拟交易（Paper Trading）是一种在历史数据上运行策略的方式。通过逐步模拟每一个交易日，并且确保决策仅依赖于过去的数据，从而避免偷窥未来数据。在模拟交易中，决策逻辑需要严格依赖当时已知的信息。\n",
    "\n",
    "在数学上，假设在某个时刻 $ t $，我们根据当时的信息 $ X_t $ 进行交易决策 $ d_t $：\n",
    "\n",
    "$$\n",
    "d_t = f(X_t, X_{t-1}, X_{t-2}, \\dots, X_{t-n})\n",
    "$$\n",
    "\n",
    "在模拟交易中，$ d_t $ 只能基于 $ t $ 时刻及其之前的信息，而不允许使用 $ t+1 $ 或以后的数据。"
   ]
  },
  {
   "cell_type": "markdown",
   "metadata": {},
   "source": [
    "#### 1.3.2 数据过拟合偏差\n",
    "\n",
    "过拟合是设计策略时难以完全规避的问题。过拟合会呈现以下特点\n",
    "\n",
    "- 回测表现优秀，实盘表现差\n",
    "- 在训练集上表现良好，而在测试集或实盘中表现不佳\n",
    "- 策略复杂度过高，无法泛化到新数据\n",
    "\n",
    "严格来讲，过拟合无法完全消除。一方面，我们需要历史回测来评判策略是否值得继续开发和使用。另一方面，当回测作为筛选策略的一项指标时，过拟合不可避免地出现了。好策略需要完备的“逻辑”作为支撑，如此可以相对削弱过拟合带来的影响。\n",
    "\n",
    "从学习的角度来说，一旦将策略应用于新的市场环境或未见的数据集时，策略的表现可能急剧下降，甚至导致亏损。这是因为策略学到的“模式”并不具有通用性，仅仅是对过去数据的过度拟合。\n",
    "\n",
    "如果策略复杂度过高，它们虽然能捕捉到历史数据中的每个细节，但在新数据中这些细节可能并不存在。\n",
    "\n",
    "**避免过拟合的方法**\n",
    "\n",
    "- 使用交叉验证，在多个不同的数据子集上训练和验证模型，从而减少单个样本集上的过拟合现象\n",
    "- 在不同时间段、不同市场条件（如牛市、熊市等）下测试策略的表现，确保模型对不同的市场环境的稳健性"
   ]
  },
  {
   "cell_type": "markdown",
   "metadata": {},
   "source": [
    "#### 1.3.3 敏感度分析"
   ]
  },
  {
   "cell_type": "markdown",
   "metadata": {},
   "source": [
    "敏感度分析是通过改变模型的输入参数，观察输出结果的变化来分析模型对不同参数的敏感性。假设我们有一个模型 $ f(x_1, x_2, \\dots, x_n) $，其中 $ x_1, x_2, \\dots, x_n $ 是模型的输入参数，模型的输出为 $ y $。敏感度分析就是研究当某一个或多个输入参数 $ x_i $ 发生微小变化时，模型输出 $ y $ 的变化情况。\n",
    "\n",
    "我们通过计算模型的局部敏感度来量化这种影响：\n",
    "\n",
    "$$\n",
    "S_i = \\frac{\\partial y}{\\partial x_i}\n",
    "$$\n",
    "\n",
    "其中，$ S_i $ 表示模型对参数 $ x_i $ 的敏感度。如果 $ |S_i| $ 值较大，说明模型对该参数的变化非常敏感；如果 $ |S_i| $ 值较小，则说明模型对该参数的变化不敏感。\n",
    "\n",
    "敏感度分析在量化交易中的作用主要体现在以下几个方面：\n",
    "\n",
    "- 识别关键参数：通过敏感度分析，可以找出对模型结果影响较大的参数。这些参数往往是策略需要重点优化和关注的地方。\n",
    "  \n",
    "- 简化模型：有时模型中包含了很多参数，敏感度分析可以帮助我们识别哪些参数对结果影响较小，从而可以适当减少这些参数，简化模型结构。这不仅可以降低模型的复杂度，还可以降低过拟合的风险。\n",
    "  \n",
    "- 模型稳健性分析：通过改变参数，可以分析模型在不同条件下的表现是否一致，进而评估模型的稳健性。如果模型对某些参数过于敏感，则需要对模型进行调整，增强其稳健性。\n",
    "\n",
    "\n",
    "假设有一个交易策略模型 $ f(x_1, x_2, \\dots, x_n) $，其中 $ x_1, x_2, \\dots, x_n $ 是不同的策略参数，输出 $ y $ 是策略的绩效指标，如收益率、夏普比率等。为了评估模型对各个参数的敏感度，我们可以使用以下几种方法：\n",
    "\n",
    "**1. 局部敏感度分析**\n",
    "\n",
    "局部敏感度分析是一种简单的方式，假设我们只改变其中一个参数 $ x_i $，观察输出 $ y $ 的变化。我们可以使用以下公式来量化这种敏感度：\n",
    "\n",
    "$$\n",
    "S_i = \\frac{\\partial y}{\\partial x_i}\n",
    "$$\n",
    "\n",
    "为了方便计算，我们通常使用有限差分法来近似计算：\n",
    "\n",
    "$$\n",
    "S_i \\approx \\frac{f(x_1, x_2, \\dots, x_i + \\Delta x_i, \\dots, x_n) - f(x_1, x_2, \\dots, x_n)}{\\Delta x_i}\n",
    "$$\n",
    "\n",
    "其中，$ \\Delta x_i $ 是对参数 $ x_i $ 的一个微小扰动。\n",
    "\n",
    "**2. 全局敏感度分析**\n",
    "\n",
    "全局敏感度分析不仅仅关注单个参数的局部变化，而是同时考虑多个参数的变化，以及它们之间的相互作用。常见的方法包括 **Sobol 分析** 和 **方差分解法**。\n",
    "\n",
    "对于一个多参数模型，全局敏感度分析的主要思想是将输出 $ y $ 的方差分解成由各个参数及其交互项引起的部分。假设 $ y $ 的总方差为 $ \\mathrm{Var}(y) $，那么我们可以将其分解为：\n",
    "\n",
    "$$\n",
    "\\mathrm{Var}(y) = \\sum_{i=1}^{n} \\mathrm{Var}_i + \\sum_{i < j} \\mathrm{Var}_{ij} + \\dots + \\mathrm{Var}_{12\\dots n}\n",
    "$$\n",
    "\n",
    "其中，$ \\mathrm{Var}_i $ 是由参数 $ x_i $ 单独引起的方差，$ \\mathrm{Var}_{ij} $ 是参数 $ x_i $ 和 $ x_j $ 之间交互作用引起的方差。通过这种方法，我们可以分析各个参数以及它们的组合对模型输出的影响。\n"
   ]
  },
  {
   "cell_type": "markdown",
   "metadata": {
    "jp-MarkdownHeadingCollapsed": true
   },
   "source": [
    "### 1.4 交易成本分析"
   ]
  },
  {
   "cell_type": "markdown",
   "metadata": {
    "jp-MarkdownHeadingCollapsed": true
   },
   "source": [
    "交易成本分为以下几个组成部分\n",
    "\n",
    "1. 佣金\n",
    "2. 取决于市场流动性的买卖价差（Bid-Ask Spread）\n",
    "3. 机会成本（限价成交）\n",
    "4. 市场冲击（大单成本）\n",
    "5. 滑点（延时成本）\n",
    "\n",
    "从交易成本的这几个组成部分出发，有以下方法可以降低成本\n",
    "\n",
    "#### 1.4.1 低价股票（流动性、佣金）\n",
    "\n",
    "选择低价股票交易可以通过以下两种方式降低交易成本：\n",
    "\n",
    "- **流动性较好的股票**：低价股票通常意味着交易量较大，流动性较好。流动性好的股票通常具有较小的买卖价差（bid-ask spread），交易者能够以更接近市场价格的价位成交，从而降低隐性成本。数学上，买卖价差可以表示为：\n",
    "\n",
    "  $$\n",
    "  \\text{Bid-Ask Spread} = \\text{Ask Price} - \\text{Bid Price}\n",
    "  $$\n",
    "\n",
    "  当流动性高时，买卖价差趋向于缩小，使得交易成本降低。\n",
    "\n",
    "- **较低的佣金**：部分券商对于低价股的交易会提供更低的佣金率或交易费率。假设佣金率为 $ r $，交易金额为 $ A $，则总的佣金为：\n",
    "\n",
    "  $$\n",
    "  \\text{佣金} = A \\times r\n",
    "  $$\n",
    "\n",
    "  选择低价股票，可能会因为更低的交易量和佣金率组合，减少实际交易成本。\n",
    "\n",
    "#### 1.4.2 限制订单大小（市场冲击，1%的市场交易量）\n",
    "\n",
    "市场冲击指的是大额订单对市场价格产生的冲击，尤其是在交易量较小的市场中。为了降低市场冲击，可以通过限制单笔订单的大小，使其不超过市场总交易量的一定比例（如 1%）。\n",
    "\n",
    "假设正常市场情况下的价格为 $ P_0 $，由于大单交易导致实际成交价格为 $ P_1 $，那么市场冲击成本为：\n",
    "\n",
    "$$\n",
    "\\text{市场冲击成本} = |P_1 - P_0|\n",
    "$$\n",
    "\n",
    "限制订单大小可以减少这种价格偏离，防止订单对市场价格的过度影响。常见的策略是将每次交易的订单量控制在当日市场交易量的 1% 以下。\n",
    "\n",
    "#### 1.4.3 根据股票市值调整订单大小\n",
    "\n",
    "在实际交易中，可以根据股票的市值来调整订单的大小，以避免在低市值股票中下达过大的订单，导致显著的市场冲击。高市值的股票通常交易量较大，适合较大规模的交易，而低市值股票的交易通常会更加谨慎。\n",
    "\n",
    "设股票市值为 $ V $，交易量为 $ Q $，理想情况下，订单大小 $ O $ 应与股票市值成正比，通常设定为：\n",
    "\n",
    "$$\n",
    "O \\leq \\frac{V \\times \\alpha}{Q}\n",
    "$$\n",
    "\n",
    "其中，$ \\alpha $ 是一个调整系数，控制订单与市值的比例。\n",
    "\n",
    "通过这种方式，在高市值股票中可以执行较大的订单，而低市值股票中保持较小的订单量，从而有效减少市场冲击。\n",
    "\n",
    "#### 1.4.4 算法交易（降低延时成本）\n",
    "\n",
    "算法交易是通过计算机程序自动化执行交易指令的方式，主要目的是分解大额订单，降低市场冲击，同时也能降低滑点和延时成本。\n",
    "\n",
    "- **延时成本与滑点**：滑点是指交易指令发出时与实际成交时的价格差异。通过使用算法交易，可以降低因市场价格快速变动而产生的滑点。滑点公式为：\n",
    "\n",
    "  $$\n",
    "  \\text{滑点} = |P_{\\text{expected}} - P_{\\text{actual}}|\n",
    "  $$\n",
    "\n",
    "  算法交易通过自动化分批下单，如VWAP（成交量加权平均价格）、TWAP（时间加权平均价格），可以更均匀地分布订单执行时间，减少对市场的冲击并降低滑点。\n",
    "\n",
    "- **常见算法交易策略**：\n",
    "  - **TWAP（时间加权平均价格）**：将大额订单分布在一定时间段内，以减少大单对市场价格的瞬时影响。\n",
    "  - **VWAP（成交量加权平均价格）**：根据市场交易量分布来执行订单，使交易价格更接近市场平均成交价格，进一步减少市场冲击和滑点。"
   ]
  },
  {
   "cell_type": "markdown",
   "metadata": {},
   "source": [
    "### 1.5 风险控制\n",
    "\n",
    "#### 1.5.1 仓位风险\n",
    "\n",
    "仓位风险涉及投资者在市场中的持仓比例的控制。这部分风险包括以下几个方面\n",
    "\n",
    "**止损**\n",
    "\n",
    "止损是指当市场价格达到预设的损失阈值时，自动平仓以避免更大的损失。止损在金融危机时尤为重要。\n",
    "\n",
    "**Kelly 公式**\n",
    "\n",
    "Kelly公式，是一种根据赌博赢或输的概率，计算出每次下注的资金占所有赌本的最佳比例的公式，由约翰·拉里·凯利于1956年在《贝尔系统技术期刊》中发表，可用以计算出每次游戏中应投注的资金比例。\n",
    "\n",
    "其最一般性陈述为，借由寻找能最大化结果对数期望的资本比例$f^*$，即可获得长期增长率的最大化。对于只有两种结果的简单赌局：要么输掉所有注金，要么赢得注金乘以特定赔率：\n",
    "\n",
    "$$\n",
    "f^* = \\frac{bp - q}{b} = \\frac{p(b + 1) - 1}{b},\n",
    "$$\n",
    "\n",
    "其中：\n",
    "\n",
    "- $f^*$ 为现有资金应进行下注比例；\n",
    "- $b$ 为投注可得的赔率（不含本金）；\n",
    "- $p$ 为获胜率；\n",
    "- $q$ 为落败率，即 $1 - p$。\n",
    "\n",
    "举例而言，若一赌博有 60% 的获胜率（$p = 0.6$, $q = 0.4$），而赌客在赢得赌局时，可获得一赔一的赔率（$b = 1$），则赌客应在每次机会中下注现有资金的 20%（$f^* = 0.2$），以最大化资金的长期增长率。如果赔率没有优势，即 $b < q/p$，公式的结果是负的，那么公式建议不下注。如果赔率是负的，即 $b/p < 0$，也就是暗示应该下注到另外一边。"
   ]
  },
  {
   "cell_type": "markdown",
   "metadata": {},
   "source": [
    "在股票市场中，胜率（$p$）可以解释为某一股票在未来一段时间内上涨的概率。这通常通过历史数据、技术分析或其他预测模型来估算。赔率（$b$）是指投资者在股票上涨时能够获得的预期收益。例如，假设投资者预计某股票在未来有 10% 的上涨空间，则 $b = 0.1$。失败率（$q$）是股票下跌的概率。如果上涨概率为 60% ($p = 0.6$)，那么下跌概率就是 40% ($q = 0.4$)。\n",
    "\n",
    "假设某股票在未来一段时间内有 60% 的概率上涨（$p = 0.6$），上涨时的收益为 10%（$b = 0.1$），下跌概率为 40%（$q = 0.4$）。根据 Kelly 公式，我们可以计算出建议的投资仓位比例：\n",
    "\n",
    "$$\n",
    "f^* = \\frac{0.6 \\times 1.1 - 1}{0.1} = \\frac{0.66 - 1}{0.1} = \\frac{-0.34}{0.1} = -3.4\n",
    "$$"
   ]
  },
  {
   "cell_type": "markdown",
   "metadata": {},
   "source": [
    "这个结果表明该投资机会并不理想，因为 $f^*$ 为负数，意味着预期的长期收益为负。因此，根据 Kelly 公式，不应该进行这笔投资。"
   ]
  },
  {
   "cell_type": "markdown",
   "metadata": {},
   "source": [
    "#### 1.5.2 模型风险\n",
    "\n",
    "模型风险是指由于交易模型的不准确性或不完善性，导致投资策略在实际交易中的表现与预期产生偏差。\n",
    "\n",
    "- 数据过拟合\n",
    "- 市场结构转换\n",
    "- 数据生存期偏差\n",
    "- 竞争加剧"
   ]
  },
  {
   "cell_type": "markdown",
   "metadata": {},
   "source": [
    "## 2. 业绩归因"
   ]
  },
  {
   "cell_type": "markdown",
   "metadata": {},
   "source": [
    "业绩归因通常用于分析组合的收益来源，是投资经理进行策略评估与修正、投资者度量基金经理各方面能力的重要工具。\n",
    "\n",
    "业绩归因主要有两大类方法，基于净值的业绩归因和基于持仓的业绩归因。前者主要是对基金的收益率序列进行分析，而后者则是根据组合的实际持仓进行分析。"
   ]
  },
  {
   "cell_type": "markdown",
   "metadata": {},
   "source": [
    "### 2.1 基于净值的业绩归因\n",
    "\n"
   ]
  },
  {
   "cell_type": "markdown",
   "metadata": {},
   "source": [
    "基于净值的业绩归因是将基金的收益序列对风格因子进行时间序列回归，然后根据回归结果考察每种风格对组合收益的贡献，以及基金经理的主动管理能力（Alpha）对组合收益的贡献。"
   ]
  },
  {
   "cell_type": "markdown",
   "metadata": {},
   "source": [
    "- Treynor 和 Mazuy（1966）提出的 T-M 模型，将基金经理的能力分为选股和择时两类。他们在 CAPM 的基础上，增加了市场风险溢价的二次项，并以二次项的回归系数代表择时能力，以整个模型的截距项代表选股能力。\n",
    "- Henriksson 和 Merton（1981）对 T-M 模型进行修正，将二次项改为市场风险溢价与虚拟变量（市场风险溢价大于  0  时，为  1；反之，为  0）的乘积，提出了  H-M  模型。类似地，虚拟变量的系数代表择时能力，而回归截距项代表选股能力。\n",
    "- Chang  和  Lewellen（1984）在  H-M  模型的基础上作了进一步修改，加入两个虚拟变量，得到基金在市场风险溢价大于 0 和小于 0 时的 beta，并通过比较这两个 beta 的差值来分析基金的特点。\n",
    "- Sharpe（1992）通过一个二次规划问题估计基金的风格头寸，并首次提出基于风格分析来为每只基金单独制定一个业绩基准，以便更加精确地衡量基金经理的贡献。    "
   ]
  },
  {
   "cell_type": "markdown",
   "metadata": {},
   "source": [
    "#### 2.1.1 净值因子回归模型\n",
    "\n",
    "基于净值的业绩归因通过时间序列回归，将基金超额收益分解为风险因子收益和特质收益两部分，后者一般被认为来自于基金经理选股和择时的能力。\n",
    "\n",
    "净值因子模型的一般形式为：\n",
    "\n",
    "$$\n",
    "R_i = \\alpha_i + b_{i,1}F_1 + b_{i,2}F_2 + \\dots + b_{i,n}F_n + e_i\n",
    "$$\n",
    "\n",
    "其中，$R_i$ 为组合收益，$F_1, F_2, \\dots, F_n$ 为因子（各风险资产收益），$b_{i,1}, b_{i,2}, \\dots, b_{i,n}$ 为组合对因子的敏感度，$\\alpha_i+e_i$ 是不能为因子（风格资产）解释的部分（non-factor）。\n",
    "\n",
    "上述模型中，常用的因子包括：市场收益、市值因子收益、估值因子收益、国家收益、行业收益等。在实际应用中，因子收益通常采用分散化的模拟组合进行估算。\n"
   ]
  },
  {
   "cell_type": "markdown",
   "metadata": {},
   "source": [
    "#### 2.1.2 案例分析\n",
    "\n",
    "基金 A 为例，对常用业绩归因模型的应用方法和结果进行演示和说明。\n",
    "\n",
    "基金 A 的投资目标是在控制跟踪误差的基础上，采用量化方法对基准指数进行增强。按照基金契约，股票资产的投资比例不低于基金资产的 90%，基准指数指数成分股和备选成分股的资产不低于股票资产的 80%，投资范围不包括股指期货品种。\n",
    "\n",
    "采用基金收益率序列对因子进行回归，可以得到基金相对于基准指数的行业和风格暴露。\n",
    "\n",
    "该基金在行业上的控制非常严格，相对于基准指数没有明显的偏离。若从显著性的角度考虑，仅在非银和银行两个板块上存在轻微的低配，在建材上存在轻微的高配。由此推测，该基金在构建投资组合时，可能采取了行业中性的处理方法。从风格角度来看，该基金相对基准指数存在明显的小市值偏离，但在估值/成长维度上的偏离并不显著。此外，该基金还在盈利与增长两个基本面因子上有非常明显的偏离。\n",
    "\n",
    "<center><img src=\"img/基金A.png\" width=70%></center>\n",
    "\n",
    "基金  A 近  5 年的业绩归因结果，其中，黑色柱状图为基金收益，由各因子的贡献（蓝色柱状图\n",
    "）和  Alpha（红色柱状图）组成。市场因子外，该基金最主要的收益来源是风格因子中的小市值\n",
    "和基本面因子中的盈利与增长，而行业因子几乎不存在明显的收益贡献。按照净值归因模型的定\n",
    "义，因子贡献以外的剩余收益即为基金 Alpha，是基金经理通过选股与择时获取的收益\n",
    "\n",
    "<center><img src=\"img/基金A业绩归因.png\" width=70%></center>"
   ]
  },
  {
   "cell_type": "markdown",
   "metadata": {},
   "source": [
    "### 2.2 基于持仓的业绩归因"
   ]
  },
  {
   "cell_type": "markdown",
   "metadata": {},
   "source": [
    "归因基于持仓的业绩归因方法是对投资组合在不同时点上的实际持仓进行分析\n",
    "，并将其映射到不同风格中。经典的模型有  Brinson 绩效归因模型及其多期\n",
    "改进，以及多因子归因模型。\n",
    "\n",
    "- Brinson 模型最早由 Brinson、Hood 和 Beebower 提出，BHB 模型模型从自上而下的角度将组合相对于基准的超额收益分解为资产配置效应、标的选择效应以及交互效应三部分。\n",
    "- 随后 Brinson和 Fachler 将交互效应与选择效应合并，提出 BF 版本的 Brinson 模型。基于业绩归因的连续性要求，通常需要将单期归因结果合并为多期。\n",
    "- 但从单期收益到多期收益需要考虑再投资的影响，而不是简单累加。为此，许多学者都对这个问题进行了深入研究，并提出了多种可由单期拓展至多期的归因算法。"
   ]
  },
  {
   "cell_type": "markdown",
   "metadata": {},
   "source": [
    "#### 2.2.1 单期 Brinson 归因模型"
   ]
  },
  {
   "cell_type": "markdown",
   "metadata": {},
   "source": [
    "假设组合中共有I类资产，如，股票、债券、行业（或风格）、基金、衍生品等。以 $w_i^P$ 表示实际投资组合中大类资产 $i$ 的权重， $w_i^B$ 表示基准组合中大类资产 *i* 的权重； $r_i^P$ 表示实际组合中大类资产 *i* 的收益率， $r_i^B$ 表示基准组合中大类资产 $i$ 的收益率。Brinson模型的收益分解过程如下图所示。\n",
    "\n",
    "<center><img src=\"img/brinson.png\" width=70%></center>"
   ]
  },
  {
   "cell_type": "markdown",
   "metadata": {},
   "source": [
    "上图共设有 4 个概念组合。其中，Q1 代表基准组合，Q2 代表基金资产配臵组合（大类资产配臵权重与基准不同，而大类资产内部的证券标的与基准相同），Q3 代表积极选择组合（大类资产配臵比例与基准相同，而大类资产内部证券标的不同），Q4 为实际投资组合。\n",
    "\n",
    "实际投资组合相对于基准的超额收益记为 $R^4$，按照定义有 $R^A=Q_4-Q_1$。基于上述 4个概念组合可以将超额收益分解为大类资产配臵收益（Allocation Return，AR）、选择收益（Selection Return，SR）和交互收益（Interaction Return，IR），即\n",
    "\n",
    "$$\n",
    "R^A=AR+SR+IR\n",
    "$$\n",
    "\n",
    "$$\n",
    "\\begin{aligned}\n",
    "资产配置收益：AR=Q_2- Q_1=\\sum_{i=1}^I (w_i^P-w_i^B)r_i^B\\\\\n",
    "选择收益：SR=Q_3-Q_1=\\sum_{i=1}^Iw_i^B(r_i^P-r_i^B)\\\\\n",
    "交互收益：IR=R^A-AR-SR=\\sum_{i=1}^I (w_i^P-w_i^B)(r_i^P-r_i^B)\n",
    "\\end{aligned}\n",
    "$$\n",
    "\n",
    "由以上定义可知，\n",
    "\n",
    "- 配置效应（AR）= 超额权重 * 基准资产收益率，是在不进行证券选择的情况下，通过积极的资产配置，即超配具有正收益、低配具有负收益的资产所能获取的收益。\n",
    "- 选择效应（SR）= 基准权重 * 资产超额收益，是各大类资产配置比例与基准相同，通过在每类资产内部进行积极的证券选择所能获取的超额收益。\n",
    "- 交互效应（IR）= 超额权重 * 超额收益率，是投资组合在资产配置和个股选择逐层归因后的剩余部分。"
   ]
  },
  {
   "cell_type": "markdown",
   "metadata": {},
   "source": [
    "#### 2.2.2 多期 Brinson 归因模型"
   ]
  },
  {
   "cell_type": "markdown",
   "metadata": {},
   "source": [
    "单期 Brinson 模型对某个特定时期内，基金的业绩进行了有效分解。但实际的投资组合评价过程中，往往需要对一只基金在多个时间段内的整体业绩表现进行归因，这就需要将模型由单期拓展到多期。\n",
    "\n",
    "从单期归因到多期归因需要考虑再投资的影响。组合$T$期的累计收益$R_T^P$并不是简单的单期收益加总，而是经过前期累计收益放缩后的单期收益之和，即\n",
    "\n",
    "$$\n",
    "R_T^P=\\sum_{t=1}^T (1+R_{t-1}^P)\\times r_{i,t}^P\n",
    "$$\n",
    "\n",
    "其中 $r_{i,t}^P$ 为组合在第 $t$ 个子期间的收益。因此，业绩归因也并不是将每个子时段的归因效应简单加总，而是需要通过适当放缩来达到目的。"
   ]
  },
  {
   "cell_type": "markdown",
   "metadata": {},
   "source": [
    "可以将各个概念组合的累计收益率作为各自绩效的放缩因子，例如 AKH 算法。具体分析框架如下图所示。\n",
    "\n",
    "<center><img src=\"img/AKH.png\" width=70%></center>"
   ]
  },
  {
   "cell_type": "markdown",
   "metadata": {},
   "source": [
    "其中，$R_{t-1}^P$、$R_{t-1}^a$、$R_{t-1}^S$、$R_{t-1}^B$ 分别是基金实际投资组合（Q4）、积极资产配置组合（Q2）、积极选择组合（Q3）和基准组合（Q1）前$t$期的累计收益率。\n",
    "\n",
    "与单期 Brinson 模型类似，资产配置收益 $AR$ 为\n",
    "\n",
    "$$\n",
    "AR = Q_2 - Q_1 = \\sum_{i=1}^I \\sum_{t=1}^T (1 + R_{t-1}^a) \\cdot r_{i,t}^B \\cdot w_{i,t-1}^P - (1 + R_{t-1}^B) \\cdot r_{i,t}^B \\cdot w_{i,t-1}^B.\n",
    "$$\n",
    "\n",
    "标的选择贡献 $SR$ 为：\n",
    "\n",
    "$$\n",
    "SR = Q_3 - Q_1 = \\sum_{i=1}^I \\sum_{t=1}^T (1 + R_{t-1}^S) \\cdot r_{i,t}^P \\cdot w_{i,t-1}^P - (1 + R_{t-1}^B) \\cdot r_{i,t}^B \\cdot w_{i,t-1}^B.\n",
    "$$\n",
    "\n",
    "剩余部分 $Q_4 - Q_2 - Q_3 + Q_1$ 即为交叉贡献 $IR$。\n",
    "\n"
   ]
  },
  {
   "cell_type": "markdown",
   "metadata": {},
   "source": [
    "**案例分析**\n",
    "\n",
    "对于基金 A，我们分别根据季报（仓位）、半年报（行业和个股，其中行业采用中信一级分类）披露的持仓数据，计算其资产配置和行业配置的比例。并假定相邻报告期之间，持仓比例是均匀变化的。下表给出了 Brison 模型的归因结果。\n",
    "\n",
    "<center><img src=\"img/超额.png\" width=70%></center>\n",
    "\n",
    "由上表可见，资产配臵对基金 A 超额收益的贡献很低，应当是由于该基金一直以来都保持着较高的权益仓位。虽然通过行业配臵获取了一部分超额收益，但基金 A 的主要收益来源还是个股选择。由于 Brinson 模型将管理费、交易费等成本均归入了个股选择收益，因此，我们认为，个股选择对该基金超额收益的实际贡献应该更高。\n",
    "\n",
    "下图进一步展示了基金 A 的超额收益及其中资产配臵贡献、行业配臵贡献和个股选择贡献的历史表现。\n",
    "\n",
    "\n",
    "<center><img src=\"img/分解.png\" width=70%></center>\n",
    "\n",
    "基金 A 相对基准的超额收益自 2014 年下半年起，便开始稳步上升。期间即使遭遇小幅回撤，也能迅速恢复并再创新高。根据 Brinson 模型的归因结果，紫色曲线代表的个股选择贡献是该基金超额收益的主要来源。其中，2015 年年中至 2016 年年中以及2017 年 6 月至 7 月，是贡献最大的时期；行业配臵的贡献主要发生在 2014 年年末至2015 年年中及 2017 年 7 月以来；而资产配臵的贡献在整个区间内都极其微弱。\n",
    "\n",
    "下图进一步给出了该基金的行业配臵变化。\n",
    "\n",
    "\n",
    "<center><img src=\"img/行业配置变化.png\" width=70%></center>\n",
    "\n",
    "整体来看，基金 A 存在一定的行业偏离，具体表现在长期低配非银金融、国防军工、医药、有色金属、计算机和电力及公用事业这几个行业。基金 A 长期超配的行业较少，更多地体现出了优秀的行业轮动能力。\n"
   ]
  },
  {
   "cell_type": "markdown",
   "metadata": {},
   "source": [
    "*参考资料*\n",
    "\n",
    "- 基金业绩归因方法论综述-20190630-海通证券"
   ]
  }
 ],
 "metadata": {
  "kernelspec": {
   "display_name": "Python 3 (ipykernel)",
   "language": "python",
   "name": "python3"
  },
  "language_info": {
   "codemirror_mode": {
    "name": "ipython",
    "version": 3
   },
   "file_extension": ".py",
   "mimetype": "text/x-python",
   "name": "python",
   "nbconvert_exporter": "python",
   "pygments_lexer": "ipython3",
   "version": "3.11.9"
  }
 },
 "nbformat": 4,
 "nbformat_minor": 4
}
